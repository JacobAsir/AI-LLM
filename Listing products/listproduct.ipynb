{
 "cells": [
  {
   "cell_type": "code",
   "execution_count": 1,
   "metadata": {},
   "outputs": [
    {
     "name": "stdout",
     "output_type": "stream",
     "text": [
      "sagemaker.config INFO - Not applying SDK defaults from location: C:\\ProgramData\\sagemaker\\sagemaker\\config.yaml\n",
      "sagemaker.config INFO - Not applying SDK defaults from location: C:\\Users\\HP\\AppData\\Local\\sagemaker\\sagemaker\\config.yaml\n"
     ]
    },
    {
     "data": {
      "text/plain": [
       "ChatCohere(client=<cohere.client.Client object at 0x000001635AACC220>, async_client=<cohere.client.AsyncClient object at 0x0000016343697A00>, model='command-r-plus-08-2024', cohere_api_key=SecretStr('**********'))"
      ]
     },
     "execution_count": 1,
     "metadata": {},
     "output_type": "execute_result"
    }
   ],
   "source": [
    "import os\n",
    "from dotenv import load_dotenv\n",
    "load_dotenv()\n",
    "\n",
    "from langchain_cohere import ChatCohere\n",
    "\n",
    "os.environ[\"COHERE_API_KEY\"] = os.getenv(\"COHERE_API_KEY\")\n",
    "\n",
    "llm = ChatCohere(model=\"command-r-plus-08-2024\")\n",
    "llm"
   ]
  },
  {
   "cell_type": "code",
   "execution_count": 2,
   "metadata": {},
   "outputs": [
    {
     "data": {
      "text/plain": [
       "AIMessage(content='Why did the chicken cross the road?\\n\\nTo get to the other side!', additional_kwargs={'documents': None, 'citations': None, 'search_results': None, 'search_queries': None, 'is_search_required': None, 'generation_id': 'eacdca19-0166-4e6c-babf-4d911fcc2c4b', 'token_count': {'input_tokens': 210.0, 'output_tokens': 17.0}}, response_metadata={'documents': None, 'citations': None, 'search_results': None, 'search_queries': None, 'is_search_required': None, 'generation_id': 'eacdca19-0166-4e6c-babf-4d911fcc2c4b', 'token_count': {'input_tokens': 210.0, 'output_tokens': 17.0}}, id='run-c8d74d3a-fcc8-435a-af10-a93ed4f2bf0d-0', usage_metadata={'input_tokens': 210, 'output_tokens': 17, 'total_tokens': 227})"
      ]
     },
     "execution_count": 2,
     "metadata": {},
     "output_type": "execute_result"
    }
   ],
   "source": [
    "llm.invoke(\"tell me a joke\")"
   ]
  },
  {
   "cell_type": "code",
   "execution_count": 14,
   "metadata": {},
   "outputs": [],
   "source": [
    "from langchain.prompts.chat import(\n",
    "    ChatPromptTemplate,\n",
    "    SystemMessagePromptTemplate,\n",
    "    AIMessagePromptTemplate,\n",
    "    HumanMessagePromptTemplate,)\n",
    "\n",
    "system_prompt = \"\"\"\n",
    "You are helpful assitant and your task is extract key attributes from the\n",
    "description of the given product items \n",
    "\"\"\"\n",
    "system_message_prompt = SystemMessagePromptTemplate.from_template(system_prompt)\n",
    "\n",
    "\n",
    "example_human_1 = HumanMessagePromptTemplate.from_template(\"Zara Women's Blazer, Black Size: L Excellent condition, worn twice for meetings. Comes with original buttons and extra fabric patch. Purchased for 5,000 JPY.\")\n",
    "example_ai_1 = AIMessagePromptTemplate.from_template(\"\"\"Extracted Attributes:\n",
    "                                                        \\nSize: L\n",
    "                                                        \\nColor: Black\n",
    "                                                        \\nOriginal retail price: 5,000 JPY\n",
    "                                                        \\n\"tem condition: Excellent\n",
    "                                                        \\nWear frequency: Worn twice\"\"\")\n",
    "\n",
    "example_human_2 = HumanMessagePromptTemplate.from_template(\"H&M Denim Jeans, Blue Size: 32 Barely used, no signs of wear. Perfect for casual outings\")\n",
    "example_ai_2 = AIMessagePromptTemplate.from_template(\"\"\"Extracted Attributes:\n",
    "                                                        \\nSize: 32\n",
    "                                                        \\nColor: Blue\n",
    "                                                        \\nOriginal retail price: NONE\n",
    "                                                        \\nItem condition: Barely used\n",
    "                                                        \\nUsage: Casual outings\"\"\")\n",
    "\n",
    "\n",
    "example_human_3 = HumanMessagePromptTemplate.from_template(\"Apple iPhone 13 Pro, 128GB Space Gray Barely used, includes original box and charger. Screen protector applied since day one. Originally bought for 1,000 JPY\")\n",
    "example_ai_3 = AIMessagePromptTemplate.from_template(\"\"\"Extracted Attributes:\n",
    "                                                        \\nModel: iPhone 13 Pro\n",
    "                                                        \\nStorage: 128GB\n",
    "                                                        \\nColor: Space Gray\n",
    "                                                        \\nOriginal retail price: 1,000 JPY\n",
    "                                                        \\nItem condition: Barely used\n",
    "                                                        \\nAccessories: Original box and charger\"\"\")\n",
    "\n",
    "\n",
    "example_human_4 = HumanMessagePromptTemplate.from_template(\"Sony WH-1000XM4 Headphones, Black Lightly used, in pristine condition. Comes with case and charging cable.\")\n",
    "example_ai_4 = AIMessagePromptTemplate.from_template( \"\"\"Extracted Attributes:\n",
    "                                                        \\nModel: WH-1000XM4\n",
    "                                                        \\nColor: Black\n",
    "                                                        \\nOriginal retail price: NONE\n",
    "                                                        \\nItem condition: Lightly used\n",
    "                                                        \\nAccessories: Case and charging cable\"\"\")\n",
    "\n",
    "\n",
    "example_human_5 = HumanMessagePromptTemplate.from_template(\"IKEA Billy Bookcase, White Mint condition, assembled but never used. Perfect for any living room or office.\")\n",
    "example_ai_5 = AIMessagePromptTemplate.from_template(\"\"\"Extracted Attributes:\n",
    "                                                        \\nModel: Billy\n",
    "                                                        \\nColor: White\n",
    "                                                        \\nOriginal retail price: NONE\n",
    "                                                        \\nItem condition: Mint\n",
    "                                                        \\nUsage: Living room/office\"\"\")\n",
    "\n",
    "\n",
    "example_human_6 = HumanMessagePromptTemplate.from_template(\"Dyson V11 Cordless Vacuum Cleaner Used gently for six months, works like new. Comes with all original attachments. Originally priced at 600 JPY\")\n",
    "example_ai_6 = AIMessagePromptTemplate.from_template(\"\"\"Extracted Attributes:\n",
    "                                                        \\nModel: V11\n",
    "                                                        \\nOriginal retail price: 600 JPY\n",
    "                                                        \\nItem condition: Used gently\n",
    "                                                        \\nDuration of use: Six months\n",
    "                                                        \\nAccessories: All original attachments\"\"\")\n",
    "\n",
    "\n",
    "\n",
    "\n",
    "human_template=\"{text}\"\n",
    "human_message_prompt = HumanMessagePromptTemplate.from_template(human_template)\n"
   ]
  },
  {
   "cell_type": "code",
   "execution_count": 15,
   "metadata": {},
   "outputs": [],
   "source": [
    "chat_prompt = ChatPromptTemplate.from_messages([\n",
    "    system_message_prompt,\n",
    "    example_human_1, example_ai_1,\n",
    "    example_human_2, example_ai_2,\n",
    "    example_human_3, example_ai_3,\n",
    "    example_human_4, example_ai_4,\n",
    "    example_human_5, example_ai_5,\n",
    "    example_human_6, example_ai_6,\n",
    "    human_message_prompt\n",
    "])"
   ]
  },
  {
   "cell_type": "code",
   "execution_count": 16,
   "metadata": {},
   "outputs": [
    {
     "data": {
      "text/plain": [
       "'Extracted Attributes:\\n                                                        \\nModel: Hue Starter Kit\\n                                                        \\nColor: White and Color Ambiance\\n                                                        \\nOriginal retail price: 150 JPY\\n                                                        \\nItem condition: Opened but never used\\n                                                        \\nAccessories: Four bulbs and a bridge'"
      ]
     },
     "execution_count": 16,
     "metadata": {},
     "output_type": "execute_result"
    }
   ],
   "source": [
    "chain = chat_prompt | llm \n",
    "\n",
    "response = chain.invoke(\"Philips Hue Starter Kit, White and Color Ambiance Opened but never used. Includes four bulbs and a bridge. Original price was 150 JPY\")\n",
    "response.content\n",
    "                        \n"
   ]
  },
  {
   "cell_type": "code",
   "execution_count": 17,
   "metadata": {},
   "outputs": [
    {
     "ename": "TypeError",
     "evalue": "'AIMessage' object is not subscriptable",
     "output_type": "error",
     "traceback": [
      "\u001b[1;31m---------------------------------------------------------------------------\u001b[0m",
      "\u001b[1;31mTypeError\u001b[0m                                 Traceback (most recent call last)",
      "Cell \u001b[1;32mIn[17], line 1\u001b[0m\n\u001b[1;32m----> 1\u001b[0m \u001b[43mresponse\u001b[49m\u001b[43m[\u001b[49m\u001b[38;5;124;43m\"\u001b[39;49m\u001b[38;5;124;43mcontent\u001b[39;49m\u001b[38;5;124;43m\"\u001b[39;49m\u001b[43m]\u001b[49m\n",
      "\u001b[1;31mTypeError\u001b[0m: 'AIMessage' object is not subscriptable"
     ]
    }
   ],
   "source": [
    "response[\"content\"]"
   ]
  },
  {
   "cell_type": "code",
   "execution_count": null,
   "metadata": {},
   "outputs": [],
   "source": []
  }
 ],
 "metadata": {
  "kernelspec": {
   "display_name": "Python 3",
   "language": "python",
   "name": "python3"
  },
  "language_info": {
   "codemirror_mode": {
    "name": "ipython",
    "version": 3
   },
   "file_extension": ".py",
   "mimetype": "text/x-python",
   "name": "python",
   "nbconvert_exporter": "python",
   "pygments_lexer": "ipython3",
   "version": "3.10.0"
  }
 },
 "nbformat": 4,
 "nbformat_minor": 2
}
