{
 "cells": [
  {
   "cell_type": "markdown",
   "metadata": {},
   "source": [
    "### Agentic RAG"
   ]
  },
  {
   "cell_type": "code",
   "execution_count": 1,
   "metadata": {},
   "outputs": [
    {
     "name": "stdout",
     "output_type": "stream",
     "text": [
      "Requirement already satisfied: langchain-community in c:\\users\\hp\\documents\\vscode\\ai llm\\venv\\lib\\site-packages (0.3.1)\n",
      "Collecting langchain-community\n",
      "  Downloading langchain_community-0.3.8-py3-none-any.whl.metadata (2.9 kB)\n",
      "Requirement already satisfied: PyYAML>=5.3 in c:\\users\\hp\\documents\\vscode\\ai llm\\venv\\lib\\site-packages (from langchain-community) (6.0.2)\n",
      "Requirement already satisfied: SQLAlchemy<2.0.36,>=1.4 in c:\\users\\hp\\documents\\vscode\\ai llm\\venv\\lib\\site-packages (from langchain-community) (2.0.35)\n",
      "Requirement already satisfied: aiohttp<4.0.0,>=3.8.3 in c:\\users\\hp\\documents\\vscode\\ai llm\\venv\\lib\\site-packages (from langchain-community) (3.10.8)\n",
      "Requirement already satisfied: dataclasses-json<0.7,>=0.5.7 in c:\\users\\hp\\documents\\vscode\\ai llm\\venv\\lib\\site-packages (from langchain-community) (0.6.7)\n",
      "Requirement already satisfied: httpx-sse<0.5.0,>=0.4.0 in c:\\users\\hp\\documents\\vscode\\ai llm\\venv\\lib\\site-packages (from langchain-community) (0.4.0)\n",
      "Collecting langchain<0.4.0,>=0.3.8 (from langchain-community)\n",
      "  Downloading langchain-0.3.8-py3-none-any.whl.metadata (7.1 kB)\n",
      "Requirement already satisfied: langchain-core<0.4.0,>=0.3.21 in c:\\users\\hp\\documents\\vscode\\ai llm\\venv\\lib\\site-packages (from langchain-community) (0.3.21)\n",
      "Requirement already satisfied: langsmith<0.2.0,>=0.1.125 in c:\\users\\hp\\documents\\vscode\\ai llm\\venv\\lib\\site-packages (from langchain-community) (0.1.131)\n",
      "Requirement already satisfied: numpy<2,>=1.22.4 in c:\\users\\hp\\documents\\vscode\\ai llm\\venv\\lib\\site-packages (from langchain-community) (1.26.4)\n",
      "Requirement already satisfied: pydantic-settings<3.0.0,>=2.4.0 in c:\\users\\hp\\documents\\vscode\\ai llm\\venv\\lib\\site-packages (from langchain-community) (2.5.2)\n",
      "Requirement already satisfied: requests<3,>=2 in c:\\users\\hp\\documents\\vscode\\ai llm\\venv\\lib\\site-packages (from langchain-community) (2.32.3)\n",
      "Requirement already satisfied: tenacity!=8.4.0,<10,>=8.1.0 in c:\\users\\hp\\documents\\vscode\\ai llm\\venv\\lib\\site-packages (from langchain-community) (8.5.0)\n",
      "Requirement already satisfied: aiohappyeyeballs>=2.3.0 in c:\\users\\hp\\documents\\vscode\\ai llm\\venv\\lib\\site-packages (from aiohttp<4.0.0,>=3.8.3->langchain-community) (2.4.3)\n",
      "Requirement already satisfied: aiosignal>=1.1.2 in c:\\users\\hp\\documents\\vscode\\ai llm\\venv\\lib\\site-packages (from aiohttp<4.0.0,>=3.8.3->langchain-community) (1.3.1)\n",
      "Requirement already satisfied: attrs>=17.3.0 in c:\\users\\hp\\documents\\vscode\\ai llm\\venv\\lib\\site-packages (from aiohttp<4.0.0,>=3.8.3->langchain-community) (23.2.0)\n",
      "Requirement already satisfied: frozenlist>=1.1.1 in c:\\users\\hp\\documents\\vscode\\ai llm\\venv\\lib\\site-packages (from aiohttp<4.0.0,>=3.8.3->langchain-community) (1.4.1)\n",
      "Requirement already satisfied: multidict<7.0,>=4.5 in c:\\users\\hp\\documents\\vscode\\ai llm\\venv\\lib\\site-packages (from aiohttp<4.0.0,>=3.8.3->langchain-community) (6.1.0)\n",
      "Requirement already satisfied: yarl<2.0,>=1.12.0 in c:\\users\\hp\\documents\\vscode\\ai llm\\venv\\lib\\site-packages (from aiohttp<4.0.0,>=3.8.3->langchain-community) (1.13.1)\n",
      "Requirement already satisfied: async-timeout<5.0,>=4.0 in c:\\users\\hp\\documents\\vscode\\ai llm\\venv\\lib\\site-packages (from aiohttp<4.0.0,>=3.8.3->langchain-community) (4.0.3)\n",
      "Requirement already satisfied: marshmallow<4.0.0,>=3.18.0 in c:\\users\\hp\\documents\\vscode\\ai llm\\venv\\lib\\site-packages (from dataclasses-json<0.7,>=0.5.7->langchain-community) (3.22.0)\n",
      "Requirement already satisfied: typing-inspect<1,>=0.4.0 in c:\\users\\hp\\documents\\vscode\\ai llm\\venv\\lib\\site-packages (from dataclasses-json<0.7,>=0.5.7->langchain-community) (0.9.0)\n",
      "Requirement already satisfied: langchain-text-splitters<0.4.0,>=0.3.0 in c:\\users\\hp\\documents\\vscode\\ai llm\\venv\\lib\\site-packages (from langchain<0.4.0,>=0.3.8->langchain-community) (0.3.0)\n",
      "Requirement already satisfied: pydantic<3.0.0,>=2.7.4 in c:\\users\\hp\\documents\\vscode\\ai llm\\venv\\lib\\site-packages (from langchain<0.4.0,>=0.3.8->langchain-community) (2.9.2)\n",
      "Requirement already satisfied: jsonpatch<2.0,>=1.33 in c:\\users\\hp\\documents\\vscode\\ai llm\\venv\\lib\\site-packages (from langchain-core<0.4.0,>=0.3.21->langchain-community) (1.33)\n",
      "Requirement already satisfied: packaging<25,>=23.2 in c:\\users\\hp\\documents\\vscode\\ai llm\\venv\\lib\\site-packages (from langchain-core<0.4.0,>=0.3.21->langchain-community) (24.1)\n",
      "Requirement already satisfied: typing-extensions>=4.7 in c:\\users\\hp\\documents\\vscode\\ai llm\\venv\\lib\\site-packages (from langchain-core<0.4.0,>=0.3.21->langchain-community) (4.12.2)\n",
      "Requirement already satisfied: httpx<1,>=0.23.0 in c:\\users\\hp\\documents\\vscode\\ai llm\\venv\\lib\\site-packages (from langsmith<0.2.0,>=0.1.125->langchain-community) (0.27.2)\n",
      "Requirement already satisfied: orjson<4.0.0,>=3.9.14 in c:\\users\\hp\\documents\\vscode\\ai llm\\venv\\lib\\site-packages (from langsmith<0.2.0,>=0.1.125->langchain-community) (3.10.7)\n",
      "Requirement already satisfied: requests-toolbelt<2.0.0,>=1.0.0 in c:\\users\\hp\\documents\\vscode\\ai llm\\venv\\lib\\site-packages (from langsmith<0.2.0,>=0.1.125->langchain-community) (1.0.0)\n",
      "Requirement already satisfied: python-dotenv>=0.21.0 in c:\\users\\hp\\documents\\vscode\\ai llm\\venv\\lib\\site-packages (from pydantic-settings<3.0.0,>=2.4.0->langchain-community) (1.0.1)\n",
      "Requirement already satisfied: charset-normalizer<4,>=2 in c:\\users\\hp\\documents\\vscode\\ai llm\\venv\\lib\\site-packages (from requests<3,>=2->langchain-community) (3.3.2)\n",
      "Requirement already satisfied: idna<4,>=2.5 in c:\\users\\hp\\documents\\vscode\\ai llm\\venv\\lib\\site-packages (from requests<3,>=2->langchain-community) (3.10)\n",
      "Requirement already satisfied: urllib3<3,>=1.21.1 in c:\\users\\hp\\documents\\vscode\\ai llm\\venv\\lib\\site-packages (from requests<3,>=2->langchain-community) (2.2.3)\n",
      "Requirement already satisfied: certifi>=2017.4.17 in c:\\users\\hp\\documents\\vscode\\ai llm\\venv\\lib\\site-packages (from requests<3,>=2->langchain-community) (2024.8.30)\n",
      "Requirement already satisfied: greenlet!=0.4.17 in c:\\users\\hp\\documents\\vscode\\ai llm\\venv\\lib\\site-packages (from SQLAlchemy<2.0.36,>=1.4->langchain-community) (3.1.1)\n",
      "Requirement already satisfied: anyio in c:\\users\\hp\\documents\\vscode\\ai llm\\venv\\lib\\site-packages (from httpx<1,>=0.23.0->langsmith<0.2.0,>=0.1.125->langchain-community) (4.6.0)\n",
      "Requirement already satisfied: httpcore==1.* in c:\\users\\hp\\documents\\vscode\\ai llm\\venv\\lib\\site-packages (from httpx<1,>=0.23.0->langsmith<0.2.0,>=0.1.125->langchain-community) (1.0.6)\n",
      "Requirement already satisfied: sniffio in c:\\users\\hp\\documents\\vscode\\ai llm\\venv\\lib\\site-packages (from httpx<1,>=0.23.0->langsmith<0.2.0,>=0.1.125->langchain-community) (1.3.1)\n",
      "Requirement already satisfied: h11<0.15,>=0.13 in c:\\users\\hp\\documents\\vscode\\ai llm\\venv\\lib\\site-packages (from httpcore==1.*->httpx<1,>=0.23.0->langsmith<0.2.0,>=0.1.125->langchain-community) (0.14.0)\n",
      "Requirement already satisfied: jsonpointer>=1.9 in c:\\users\\hp\\documents\\vscode\\ai llm\\venv\\lib\\site-packages (from jsonpatch<2.0,>=1.33->langchain-core<0.4.0,>=0.3.21->langchain-community) (3.0.0)\n",
      "Requirement already satisfied: annotated-types>=0.6.0 in c:\\users\\hp\\documents\\vscode\\ai llm\\venv\\lib\\site-packages (from pydantic<3.0.0,>=2.7.4->langchain<0.4.0,>=0.3.8->langchain-community) (0.7.0)\n",
      "Requirement already satisfied: pydantic-core==2.23.4 in c:\\users\\hp\\documents\\vscode\\ai llm\\venv\\lib\\site-packages (from pydantic<3.0.0,>=2.7.4->langchain<0.4.0,>=0.3.8->langchain-community) (2.23.4)\n",
      "Requirement already satisfied: mypy-extensions>=0.3.0 in c:\\users\\hp\\documents\\vscode\\ai llm\\venv\\lib\\site-packages (from typing-inspect<1,>=0.4.0->dataclasses-json<0.7,>=0.5.7->langchain-community) (1.0.0)\n",
      "Requirement already satisfied: exceptiongroup>=1.0.2 in c:\\users\\hp\\documents\\vscode\\ai llm\\venv\\lib\\site-packages (from anyio->httpx<1,>=0.23.0->langsmith<0.2.0,>=0.1.125->langchain-community) (1.2.2)\n",
      "Downloading langchain_community-0.3.8-py3-none-any.whl (2.4 MB)\n",
      "   ---------------------------------------- 0.0/2.4 MB ? eta -:--:--\n",
      "   -------- ------------------------------- 0.5/2.4 MB 3.4 MB/s eta 0:00:01\n",
      "   ------------------------- -------------- 1.6/2.4 MB 3.7 MB/s eta 0:00:01\n",
      "   -------------------------------------- - 2.4/2.4 MB 3.9 MB/s eta 0:00:01\n",
      "   ---------------------------------------- 2.4/2.4 MB 3.8 MB/s eta 0:00:00\n",
      "Downloading langchain-0.3.8-py3-none-any.whl (1.0 MB)\n",
      "   ---------------------------------------- 0.0/1.0 MB ? eta -:--:--\n",
      "   ------------------------------- -------- 0.8/1.0 MB 3.7 MB/s eta 0:00:01\n",
      "   ---------------------------------------- 1.0/1.0 MB 3.4 MB/s eta 0:00:00\n",
      "Installing collected packages: langchain, langchain-community\n",
      "  Attempting uninstall: langchain\n",
      "    Found existing installation: langchain 0.3.2\n",
      "    Uninstalling langchain-0.3.2:\n",
      "      Successfully uninstalled langchain-0.3.2\n",
      "  Attempting uninstall: langchain-community\n",
      "    Found existing installation: langchain-community 0.3.1\n",
      "    Uninstalling langchain-community-0.3.1:\n",
      "      Successfully uninstalled langchain-community-0.3.1\n",
      "Successfully installed langchain-0.3.8 langchain-community-0.3.8\n",
      "Collecting newspaper3k\n",
      "  Using cached newspaper3k-0.2.8-py3-none-any.whl.metadata (11 kB)\n",
      "Collecting beautifulsoup4>=4.4.1 (from newspaper3k)\n",
      "  Using cached beautifulsoup4-4.12.3-py3-none-any.whl.metadata (3.8 kB)\n",
      "Requirement already satisfied: Pillow>=3.3.0 in c:\\users\\hp\\documents\\vscode\\ai llm\\venv\\lib\\site-packages (from newspaper3k) (10.4.0)\n",
      "Requirement already satisfied: PyYAML>=3.11 in c:\\users\\hp\\documents\\vscode\\ai llm\\venv\\lib\\site-packages (from newspaper3k) (6.0.2)\n",
      "Collecting cssselect>=0.9.2 (from newspaper3k)\n",
      "  Downloading cssselect-1.2.0-py2.py3-none-any.whl.metadata (2.2 kB)\n",
      "Collecting lxml>=3.6.0 (from newspaper3k)\n",
      "  Using cached lxml-5.3.0-cp310-cp310-win_amd64.whl.metadata (3.9 kB)\n",
      "Collecting nltk>=3.2.1 (from newspaper3k)\n",
      "  Using cached nltk-3.9.1-py3-none-any.whl.metadata (2.9 kB)\n",
      "Requirement already satisfied: requests>=2.10.0 in c:\\users\\hp\\documents\\vscode\\ai llm\\venv\\lib\\site-packages (from newspaper3k) (2.32.3)\n",
      "Collecting feedparser>=5.2.1 (from newspaper3k)\n",
      "  Using cached feedparser-6.0.11-py3-none-any.whl.metadata (2.4 kB)\n",
      "Collecting tldextract>=2.0.1 (from newspaper3k)\n",
      "  Downloading tldextract-5.1.3-py3-none-any.whl.metadata (11 kB)\n",
      "Collecting feedfinder2>=0.0.4 (from newspaper3k)\n",
      "  Using cached feedfinder2-0.0.4-py3-none-any.whl\n",
      "Collecting jieba3k>=0.35.1 (from newspaper3k)\n",
      "  Using cached jieba3k-0.35.1-py3-none-any.whl\n",
      "Requirement already satisfied: python-dateutil>=2.5.3 in c:\\users\\hp\\documents\\vscode\\ai llm\\venv\\lib\\site-packages (from newspaper3k) (2.9.0.post0)\n",
      "Collecting tinysegmenter==0.3 (from newspaper3k)\n",
      "  Using cached tinysegmenter-0.3-py3-none-any.whl\n",
      "Collecting soupsieve>1.2 (from beautifulsoup4>=4.4.1->newspaper3k)\n",
      "  Using cached soupsieve-2.6-py3-none-any.whl.metadata (4.6 kB)\n",
      "Requirement already satisfied: six in c:\\users\\hp\\documents\\vscode\\ai llm\\venv\\lib\\site-packages (from feedfinder2>=0.0.4->newspaper3k) (1.16.0)\n",
      "Collecting sgmllib3k (from feedparser>=5.2.1->newspaper3k)\n",
      "  Using cached sgmllib3k-1.0.0-py3-none-any.whl\n",
      "Requirement already satisfied: click in c:\\users\\hp\\documents\\vscode\\ai llm\\venv\\lib\\site-packages (from nltk>=3.2.1->newspaper3k) (8.1.7)\n",
      "Requirement already satisfied: joblib in c:\\users\\hp\\documents\\vscode\\ai llm\\venv\\lib\\site-packages (from nltk>=3.2.1->newspaper3k) (1.4.2)\n",
      "Requirement already satisfied: regex>=2021.8.3 in c:\\users\\hp\\documents\\vscode\\ai llm\\venv\\lib\\site-packages (from nltk>=3.2.1->newspaper3k) (2024.9.11)\n",
      "Requirement already satisfied: tqdm in c:\\users\\hp\\documents\\vscode\\ai llm\\venv\\lib\\site-packages (from nltk>=3.2.1->newspaper3k) (4.66.5)\n",
      "Requirement already satisfied: charset-normalizer<4,>=2 in c:\\users\\hp\\documents\\vscode\\ai llm\\venv\\lib\\site-packages (from requests>=2.10.0->newspaper3k) (3.3.2)\n",
      "Requirement already satisfied: idna<4,>=2.5 in c:\\users\\hp\\documents\\vscode\\ai llm\\venv\\lib\\site-packages (from requests>=2.10.0->newspaper3k) (3.10)\n",
      "Requirement already satisfied: urllib3<3,>=1.21.1 in c:\\users\\hp\\documents\\vscode\\ai llm\\venv\\lib\\site-packages (from requests>=2.10.0->newspaper3k) (2.2.3)\n",
      "Requirement already satisfied: certifi>=2017.4.17 in c:\\users\\hp\\documents\\vscode\\ai llm\\venv\\lib\\site-packages (from requests>=2.10.0->newspaper3k) (2024.8.30)\n",
      "Collecting requests-file>=1.4 (from tldextract>=2.0.1->newspaper3k)\n",
      "  Downloading requests_file-2.1.0-py2.py3-none-any.whl.metadata (1.7 kB)\n",
      "Requirement already satisfied: filelock>=3.0.8 in c:\\users\\hp\\documents\\vscode\\ai llm\\venv\\lib\\site-packages (from tldextract>=2.0.1->newspaper3k) (3.16.1)\n",
      "Requirement already satisfied: colorama in c:\\users\\hp\\documents\\vscode\\ai llm\\venv\\lib\\site-packages (from click->nltk>=3.2.1->newspaper3k) (0.4.6)\n",
      "Using cached newspaper3k-0.2.8-py3-none-any.whl (211 kB)\n",
      "Using cached beautifulsoup4-4.12.3-py3-none-any.whl (147 kB)\n",
      "Downloading cssselect-1.2.0-py2.py3-none-any.whl (18 kB)\n",
      "Using cached feedparser-6.0.11-py3-none-any.whl (81 kB)\n",
      "Using cached lxml-5.3.0-cp310-cp310-win_amd64.whl (3.8 MB)\n",
      "Using cached nltk-3.9.1-py3-none-any.whl (1.5 MB)\n",
      "Downloading tldextract-5.1.3-py3-none-any.whl (104 kB)\n",
      "Downloading requests_file-2.1.0-py2.py3-none-any.whl (4.2 kB)\n",
      "Using cached soupsieve-2.6-py3-none-any.whl (36 kB)\n",
      "Installing collected packages: tinysegmenter, sgmllib3k, jieba3k, soupsieve, lxml, feedparser, cssselect, requests-file, nltk, beautifulsoup4, tldextract, feedfinder2, newspaper3k\n",
      "Successfully installed beautifulsoup4-4.12.3 cssselect-1.2.0 feedfinder2-0.0.4 feedparser-6.0.11 jieba3k-0.35.1 lxml-5.3.0 newspaper3k-0.2.8 nltk-3.9.1 requests-file-2.1.0 sgmllib3k-1.0.0 soupsieve-2.6 tinysegmenter-0.3 tldextract-5.1.3\n",
      "Collecting lxml_html_clean\n",
      "  Downloading lxml_html_clean-0.4.1-py3-none-any.whl.metadata (2.4 kB)\n",
      "Requirement already satisfied: lxml in c:\\users\\hp\\documents\\vscode\\ai llm\\venv\\lib\\site-packages (from lxml_html_clean) (5.3.0)\n",
      "Downloading lxml_html_clean-0.4.1-py3-none-any.whl (14 kB)\n",
      "Installing collected packages: lxml_html_clean\n",
      "Successfully installed lxml_html_clean-0.4.1\n"
     ]
    }
   ],
   "source": [
    "! pip install -q langchain openai tiktoken\n",
    "! pip install -qU langchain-openai\n",
    "! pip install -U langchain-community\n",
    "! pip install newspaper3k\n",
    "! pip install --upgrade lxml_html_clean"
   ]
  },
  {
   "cell_type": "code",
   "execution_count": 2,
   "metadata": {},
   "outputs": [
    {
     "data": {
      "text/plain": [
       "True"
      ]
     },
     "execution_count": 2,
     "metadata": {},
     "output_type": "execute_result"
    }
   ],
   "source": [
    "import os\n",
    "from dotenv import load_dotenv\n",
    "load_dotenv()"
   ]
  },
  {
   "cell_type": "code",
   "execution_count": 10,
   "metadata": {},
   "outputs": [],
   "source": [
    "import requests\n",
    "from newspaper import Article\n",
    "import time\n",
    "\n",
    "headers = {'User-Agent': 'Mozilla/5.0 (Windows NT 10.0; Win64; x64) AppleWebKit/537.36 (KHTML, like Gecko) Chrome/91.0.4472.124 Safari/537.36'}\n",
    "\n",
    "article_urls = [\n",
    "    \"https://www.indianhealthyrecipes.com/malai-kofta-recipe/\",\n",
    "    \"https://www.indianhealthyrecipes.com/dal-makhani-recipe/\",\n",
    "    \"https://www.indianhealthyrecipes.com/chana-masala/\",\n",
    "    \"https://www.indianhealthyrecipes.com/paneer-recipes/\",\n",
    "    \"https://www.indianhealthyrecipes.com/paneer-butter-masala-restaurant-style/\",\n",
    "    \"https://www.indianhealthyrecipes.com/samosa-recipe-make-samosa/\",\n",
    "    \"https://www.indianhealthyrecipes.com/butter-chicken/\",\n",
    "    \"https://www.indianhealthyrecipes.com/soft-idli-recipe-using-idli-rava/\",\n",
    "    \"https://www.indianhealthyrecipes.com/andhra-sambar-recipe-how-to-make-south-indian-sambar/\",\n",
    "    \"https://www.indianhealthyrecipes.com/veg-biryani/\",\n",
    "    \"https://www.indianhealthyrecipes.com/chicken-tikka-masala/\",\n",
    "    \"https://www.indianhealthyrecipes.com/chicken-biryani-recipe/\",\n",
    "    \"https://www.indianhealthyrecipes.com/tandoori-chicken-recipe/\",\n",
    "    \"https://www.indianhealthyrecipes.com/fish-curry-recipe/\",\n",
    "    \"https://www.indianhealthyrecipes.com/mutton-curry-recipe-mutton-gravy/\",\n",
    "    \n",
    "]\n",
    "\n",
    "\n",
    "session = requests.Session()\n",
    "pages_content = []\n",
    "\n",
    "for url in article_urls:\n",
    "  try:\n",
    "    time.sleep(2)\n",
    "    response = session.get(url, headers=headers, timeout = 10)\n",
    "\n",
    "    if response.status_code == 200:\n",
    "      article = Article(url)\n",
    "      article.download()\n",
    "      article.parse()\n",
    "      pages_content.append({\"url\": url, \"text\": article.text})\n",
    "    else:\n",
    "        print(f\"Failed to fetch article at {url}\")\n",
    "  except Exception as e:\n",
    "        print(f\"Error occurred while fetching article at {url}: {e}\")"
   ]
  },
  {
   "cell_type": "code",
   "execution_count": 13,
   "metadata": {},
   "outputs": [
    {
     "data": {
      "text/plain": [
       "[{'url': 'https://www.indianhealthyrecipes.com/malai-kofta-recipe/',\n",
       "  'text': ''},\n",
       " {'url': 'https://www.indianhealthyrecipes.com/dal-makhani-recipe/',\n",
       "  'text': ''},\n",
       " {'url': 'https://www.indianhealthyrecipes.com/chana-masala/', 'text': ''},\n",
       " {'url': 'https://www.indianhealthyrecipes.com/paneer-recipes/', 'text': ''},\n",
       " {'url': 'https://www.indianhealthyrecipes.com/paneer-butter-masala-restaurant-style/',\n",
       "  'text': ''},\n",
       " {'url': 'https://www.indianhealthyrecipes.com/samosa-recipe-make-samosa/',\n",
       "  'text': ''},\n",
       " {'url': 'https://www.indianhealthyrecipes.com/butter-chicken/', 'text': ''},\n",
       " {'url': 'https://www.indianhealthyrecipes.com/soft-idli-recipe-using-idli-rava/',\n",
       "  'text': ''},\n",
       " {'url': 'https://www.indianhealthyrecipes.com/andhra-sambar-recipe-how-to-make-south-indian-sambar/',\n",
       "  'text': ''},\n",
       " {'url': 'https://www.indianhealthyrecipes.com/veg-biryani/', 'text': ''},\n",
       " {'url': 'https://www.indianhealthyrecipes.com/chicken-tikka-masala/',\n",
       "  'text': ''},\n",
       " {'url': 'https://www.indianhealthyrecipes.com/chicken-biryani-recipe/',\n",
       "  'text': ''},\n",
       " {'url': 'https://www.indianhealthyrecipes.com/tandoori-chicken-recipe/',\n",
       "  'text': ''},\n",
       " {'url': 'https://www.indianhealthyrecipes.com/fish-curry-recipe/',\n",
       "  'text': ''},\n",
       " {'url': 'https://www.indianhealthyrecipes.com/mutton-curry-recipe-mutton-gravy/',\n",
       "  'text': ''}]"
      ]
     },
     "execution_count": 13,
     "metadata": {},
     "output_type": "execute_result"
    }
   ],
   "source": [
    "pages_content"
   ]
  },
  {
   "cell_type": "code",
   "execution_count": null,
   "metadata": {},
   "outputs": [],
   "source": []
  },
  {
   "cell_type": "code",
   "execution_count": 20,
   "metadata": {},
   "outputs": [
    {
     "data": {
      "text/plain": [
       "'* Percent Daily Values are based on a 2,000 calorie diet. Your daily values may be higher or lower depending on your calorie needs.\\n\\n** Nutrient information is not available for all ingredients. Amount is based on available nutrient data.\\n\\n(-) Information is not currently available for this nutrient. If you are following a medically restrictive diet, please consult your doctor or registered dietitian before preparing this recipe for personal consumption.'"
      ]
     },
     "execution_count": 20,
     "metadata": {},
     "output_type": "execute_result"
    }
   ],
   "source": [
    "from newspaper import Article\n",
    "\n",
    "url = 'https://www.allrecipes.com/recipe/174543/slow-cooker-butter-chicken/'\n",
    "article = Article(url)\n",
    "article.download()\n",
    "article.parse()\n",
    "article.text\n",
    "\n"
   ]
  },
  {
   "cell_type": "code",
   "execution_count": 19,
   "metadata": {},
   "outputs": [
    {
     "data": {
      "text/plain": [
       "'* Percent Daily Values are based on a 2,000 calorie diet. Your daily values may be higher or lower depending on your calorie needs.\\n\\n** Nutrient information is not available for all ingredients. Amount is based on available nutrient data.\\n\\n(-) Information is not currently available for this nutrient. If you are following a medically restrictive diet, please consult your doctor or registered dietitian before preparing this recipe for personal consumption.'"
      ]
     },
     "execution_count": 19,
     "metadata": {},
     "output_type": "execute_result"
    }
   ],
   "source": [
    "chicken"
   ]
  },
  {
   "cell_type": "code",
   "execution_count": null,
   "metadata": {},
   "outputs": [],
   "source": []
  }
 ],
 "metadata": {
  "kernelspec": {
   "display_name": "Python 3",
   "language": "python",
   "name": "python3"
  },
  "language_info": {
   "codemirror_mode": {
    "name": "ipython",
    "version": 3
   },
   "file_extension": ".py",
   "mimetype": "text/x-python",
   "name": "python",
   "nbconvert_exporter": "python",
   "pygments_lexer": "ipython3",
   "version": "3.10.0"
  }
 },
 "nbformat": 4,
 "nbformat_minor": 2
}
